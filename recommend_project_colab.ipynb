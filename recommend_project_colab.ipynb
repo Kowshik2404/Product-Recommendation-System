{
 "cells": [
  {
   "cell_type": "code",
   "execution_count": 1,
   "metadata": {
    "colab": {
     "base_uri": "https://localhost:8080/",
     "height": 139
    },
    "colab_type": "code",
    "executionInfo": {
     "elapsed": 40874,
     "status": "ok",
     "timestamp": 1573908473850,
     "user": {
      "displayName": "Kowshik Preetham",
      "photoUrl": "https://lh3.googleusercontent.com/a-/AAuE7mBwQPQIo1pccEjhpmqT2qAAPIhT_5NjdDNhCn4F=s64",
      "userId": "00492992892680713631"
     },
     "user_tz": -330
    },
    "id": "jrHknbdN1IWS",
    "outputId": "93023d91-166b-41d0-da7a-23a52a3a646e"
   },
   "outputs": [
    {
     "name": "stdout",
     "output_type": "stream",
     "text": [
      "Go to this URL in a browser: https://accounts.google.com/o/oauth2/auth?client_id=947318989803-6bn6qk8qdgf4n4g3pfee6491hc0brc4i.apps.googleusercontent.com&redirect_uri=urn%3aietf%3awg%3aoauth%3a2.0%3aoob&response_type=code&scope=email%20https%3a%2f%2fwww.googleapis.com%2fauth%2fdocs.test%20https%3a%2f%2fwww.googleapis.com%2fauth%2fdrive%20https%3a%2f%2fwww.googleapis.com%2fauth%2fdrive.photos.readonly%20https%3a%2f%2fwww.googleapis.com%2fauth%2fpeopleapi.readonly\n",
      "\n",
      "Enter your authorization code:\n",
      "··········\n",
      "Mounted at /ML_Project/\n",
      "Mounted at /content/drive\n"
     ]
    }
   ],
   "source": [
    "from google.colab import drive\n",
    "drive.mount('/ML_Project/')\n",
    "from google.colab import drive\n",
    "drive.mount('/content/drive')"
   ]
  },
  {
   "cell_type": "code",
   "execution_count": 2,
   "metadata": {
    "colab": {
     "base_uri": "https://localhost:8080/",
     "height": 204
    },
    "colab_type": "code",
    "executionInfo": {
     "elapsed": 10525,
     "status": "ok",
     "timestamp": 1573908488030,
     "user": {
      "displayName": "Kowshik Preetham",
      "photoUrl": "https://lh3.googleusercontent.com/a-/AAuE7mBwQPQIo1pccEjhpmqT2qAAPIhT_5NjdDNhCn4F=s64",
      "userId": "00492992892680713631"
     },
     "user_tz": -330
    },
    "id": "ETVLBIV6_-Xq",
    "outputId": "5c8322a6-137f-4610-cd40-a739f2387505"
   },
   "outputs": [
    {
     "data": {
      "text/html": [
       "<div>\n",
       "<style scoped>\n",
       "    .dataframe tbody tr th:only-of-type {\n",
       "        vertical-align: middle;\n",
       "    }\n",
       "\n",
       "    .dataframe tbody tr th {\n",
       "        vertical-align: top;\n",
       "    }\n",
       "\n",
       "    .dataframe thead th {\n",
       "        text-align: right;\n",
       "    }\n",
       "</style>\n",
       "<table border=\"1\" class=\"dataframe\">\n",
       "  <thead>\n",
       "    <tr style=\"text-align: right;\">\n",
       "      <th></th>\n",
       "      <th>userID</th>\n",
       "      <th>productID</th>\n",
       "      <th>rating</th>\n",
       "      <th>timeStamp</th>\n",
       "    </tr>\n",
       "  </thead>\n",
       "  <tbody>\n",
       "    <tr>\n",
       "      <th>0</th>\n",
       "      <td>A2CX7LUOHB2NDG</td>\n",
       "      <td>0321732944</td>\n",
       "      <td>5.0</td>\n",
       "      <td>1.341101e+09</td>\n",
       "    </tr>\n",
       "    <tr>\n",
       "      <th>1</th>\n",
       "      <td>A2NWSAGRHCP8N5</td>\n",
       "      <td>0439886341</td>\n",
       "      <td>1.0</td>\n",
       "      <td>1.367194e+09</td>\n",
       "    </tr>\n",
       "    <tr>\n",
       "      <th>2</th>\n",
       "      <td>A2WNBOD3WNDNKT</td>\n",
       "      <td>0439886341</td>\n",
       "      <td>3.0</td>\n",
       "      <td>1.374451e+09</td>\n",
       "    </tr>\n",
       "    <tr>\n",
       "      <th>3</th>\n",
       "      <td>A1GI0U4ZRJA8WN</td>\n",
       "      <td>0439886341</td>\n",
       "      <td>1.0</td>\n",
       "      <td>1.334707e+09</td>\n",
       "    </tr>\n",
       "    <tr>\n",
       "      <th>4</th>\n",
       "      <td>A1QGNMC6O1VW39</td>\n",
       "      <td>0511189877</td>\n",
       "      <td>5.0</td>\n",
       "      <td>1.397434e+09</td>\n",
       "    </tr>\n",
       "  </tbody>\n",
       "</table>\n",
       "</div>"
      ],
      "text/plain": [
       "           userID   productID  rating     timeStamp\n",
       "0  A2CX7LUOHB2NDG  0321732944     5.0  1.341101e+09\n",
       "1  A2NWSAGRHCP8N5  0439886341     1.0  1.367194e+09\n",
       "2  A2WNBOD3WNDNKT  0439886341     3.0  1.374451e+09\n",
       "3  A1GI0U4ZRJA8WN  0439886341     1.0  1.334707e+09\n",
       "4  A1QGNMC6O1VW39  0511189877     5.0  1.397434e+09"
      ]
     },
     "execution_count": 2,
     "metadata": {
      "tags": []
     },
     "output_type": "execute_result"
    }
   ],
   "source": [
    "import pandas as pd\n",
    "\n",
    "ratings_df=pd.read_csv('/content/drive/My Drive/ML_Project/Recommendation/ratings_Electronics.csv')\n",
    "ratings_df.columns=['userID','productID','rating','timeStamp']\n",
    "ratings_df.head()"
   ]
  },
  {
   "cell_type": "code",
   "execution_count": 3,
   "metadata": {
    "colab": {
     "base_uri": "https://localhost:8080/",
     "height": 34
    },
    "colab_type": "code",
    "executionInfo": {
     "elapsed": 1927,
     "status": "ok",
     "timestamp": 1573908492544,
     "user": {
      "displayName": "Kowshik Preetham",
      "photoUrl": "https://lh3.googleusercontent.com/a-/AAuE7mBwQPQIo1pccEjhpmqT2qAAPIhT_5NjdDNhCn4F=s64",
      "userId": "00492992892680713631"
     },
     "user_tz": -330
    },
    "id": "BkJn9e67t7FY",
    "outputId": "c0fe6677-0574-48a6-e15b-672cfdc7a9d9"
   },
   "outputs": [
    {
     "data": {
      "text/plain": [
       "array([ 5.,  1.,  3.,  2.,  4., nan])"
      ]
     },
     "execution_count": 3,
     "metadata": {
      "tags": []
     },
     "output_type": "execute_result"
    }
   ],
   "source": [
    "ratings_df.rating.unique()\n",
    "\n",
    "# Ratings are in the range starting from 1 to 5\n",
    "# There is no possibility of outliers in this case\n",
    "# Since other variables are unique ID's, we cannot check for outliers"
   ]
  },
  {
   "cell_type": "code",
   "execution_count": 0,
   "metadata": {
    "colab": {},
    "colab_type": "code",
    "id": "5eGoJkggBLfx"
   },
   "outputs": [],
   "source": [
    "# FILTER OUT USERS WITH MORE THAN OR EQUAL TO 50\n",
    "\n",
    "count=ratings_df['userID'].value_counts()\n",
    "ratings_df=ratings_df[ratings_df['userID'].isin(count[count>=50].index)]\n",
    "\n",
    "# DROPPING TIMESTAMP VARIABLE\n",
    "ratings_df.drop(['timeStamp'],axis=1,inplace=True)"
   ]
  },
  {
   "cell_type": "code",
   "execution_count": 5,
   "metadata": {
    "colab": {
     "base_uri": "https://localhost:8080/",
     "height": 34
    },
    "colab_type": "code",
    "executionInfo": {
     "elapsed": 1606,
     "status": "ok",
     "timestamp": 1573908721218,
     "user": {
      "displayName": "Kowshik Preetham",
      "photoUrl": "https://lh3.googleusercontent.com/a-/AAuE7mBwQPQIo1pccEjhpmqT2qAAPIhT_5NjdDNhCn4F=s64",
      "userId": "00492992892680713631"
     },
     "user_tz": -330
    },
    "id": "oGAEKOaUuKOr",
    "outputId": "e27815ea-047f-46a8-e04a-646e2b5071ba"
   },
   "outputs": [
    {
     "data": {
      "text/plain": [
       "array([5., 3., 1., 4., 2.])"
      ]
     },
     "execution_count": 5,
     "metadata": {
      "tags": []
     },
     "output_type": "execute_result"
    }
   ],
   "source": [
    "ratings_df.rating.unique()"
   ]
  },
  {
   "cell_type": "code",
   "execution_count": 6,
   "metadata": {
    "colab": {
     "base_uri": "https://localhost:8080/",
     "height": 153
    },
    "colab_type": "code",
    "executionInfo": {
     "elapsed": 1281,
     "status": "ok",
     "timestamp": 1573908723362,
     "user": {
      "displayName": "Kowshik Preetham",
      "photoUrl": "https://lh3.googleusercontent.com/a-/AAuE7mBwQPQIo1pccEjhpmqT2qAAPIhT_5NjdDNhCn4F=s64",
      "userId": "00492992892680713631"
     },
     "user_tz": -330
    },
    "id": "CHpYE0eLPSvM",
    "outputId": "5aed7349-9edd-4198-85b9-db36e02d8cde"
   },
   "outputs": [
    {
     "name": "stdout",
     "output_type": "stream",
     "text": [
      "<class 'pandas.core.frame.DataFrame'>\n",
      "Int64Index: 121124 entries, 93 to 7773008\n",
      "Data columns (total 3 columns):\n",
      "userID       121124 non-null object\n",
      "productID    121124 non-null object\n",
      "rating       121124 non-null float64\n",
      "dtypes: float64(1), object(2)\n",
      "memory usage: 3.7+ MB\n"
     ]
    }
   ],
   "source": [
    "ratings_df.info()"
   ]
  },
  {
   "cell_type": "code",
   "execution_count": 8,
   "metadata": {
    "colab": {
     "base_uri": "https://localhost:8080/",
     "height": 142
    },
    "colab_type": "code",
    "executionInfo": {
     "elapsed": 1699,
     "status": "ok",
     "timestamp": 1573908870048,
     "user": {
      "displayName": "Kowshik Preetham",
      "photoUrl": "https://lh3.googleusercontent.com/a-/AAuE7mBwQPQIo1pccEjhpmqT2qAAPIhT_5NjdDNhCn4F=s64",
      "userId": "00492992892680713631"
     },
     "user_tz": -330
    },
    "id": "LPNqucXruOt8",
    "outputId": "66840b4f-77c2-4af1-bc52-e14b6ffed60c"
   },
   "outputs": [
    {
     "data": {
      "text/html": [
       "<div>\n",
       "<style scoped>\n",
       "    .dataframe tbody tr th:only-of-type {\n",
       "        vertical-align: middle;\n",
       "    }\n",
       "\n",
       "    .dataframe tbody tr th {\n",
       "        vertical-align: top;\n",
       "    }\n",
       "\n",
       "    .dataframe thead th {\n",
       "        text-align: right;\n",
       "    }\n",
       "</style>\n",
       "<table border=\"1\" class=\"dataframe\">\n",
       "  <thead>\n",
       "    <tr style=\"text-align: right;\">\n",
       "      <th></th>\n",
       "      <th>count</th>\n",
       "      <th>unique</th>\n",
       "      <th>top</th>\n",
       "      <th>freq</th>\n",
       "      <th>mean</th>\n",
       "      <th>std</th>\n",
       "      <th>min</th>\n",
       "      <th>25%</th>\n",
       "      <th>50%</th>\n",
       "      <th>75%</th>\n",
       "      <th>max</th>\n",
       "    </tr>\n",
       "  </thead>\n",
       "  <tbody>\n",
       "    <tr>\n",
       "      <th>userID</th>\n",
       "      <td>121124</td>\n",
       "      <td>1495</td>\n",
       "      <td>A5JLAU2ARJ0BO</td>\n",
       "      <td>520</td>\n",
       "      <td>NaN</td>\n",
       "      <td>NaN</td>\n",
       "      <td>NaN</td>\n",
       "      <td>NaN</td>\n",
       "      <td>NaN</td>\n",
       "      <td>NaN</td>\n",
       "      <td>NaN</td>\n",
       "    </tr>\n",
       "    <tr>\n",
       "      <th>productID</th>\n",
       "      <td>121124</td>\n",
       "      <td>46865</td>\n",
       "      <td>B0088CJT4U</td>\n",
       "      <td>203</td>\n",
       "      <td>NaN</td>\n",
       "      <td>NaN</td>\n",
       "      <td>NaN</td>\n",
       "      <td>NaN</td>\n",
       "      <td>NaN</td>\n",
       "      <td>NaN</td>\n",
       "      <td>NaN</td>\n",
       "    </tr>\n",
       "    <tr>\n",
       "      <th>rating</th>\n",
       "      <td>121124</td>\n",
       "      <td>NaN</td>\n",
       "      <td>NaN</td>\n",
       "      <td>NaN</td>\n",
       "      <td>4.25893</td>\n",
       "      <td>1.06511</td>\n",
       "      <td>1</td>\n",
       "      <td>4</td>\n",
       "      <td>5</td>\n",
       "      <td>5</td>\n",
       "      <td>5</td>\n",
       "    </tr>\n",
       "  </tbody>\n",
       "</table>\n",
       "</div>"
      ],
      "text/plain": [
       "            count unique            top freq     mean  ...  min  25%  50%  75%  max\n",
       "userID     121124   1495  A5JLAU2ARJ0BO  520      NaN  ...  NaN  NaN  NaN  NaN  NaN\n",
       "productID  121124  46865     B0088CJT4U  203      NaN  ...  NaN  NaN  NaN  NaN  NaN\n",
       "rating     121124    NaN            NaN  NaN  4.25893  ...    1    4    5    5    5\n",
       "\n",
       "[3 rows x 11 columns]"
      ]
     },
     "execution_count": 8,
     "metadata": {
      "tags": []
     },
     "output_type": "execute_result"
    }
   ],
   "source": [
    "ratings_df.describe(include='all').T\n",
    "\n",
    "# 50% of the user ratings are 5 which suggests that users sacrifice their time to give rating to good movies mostly"
   ]
  },
  {
   "cell_type": "code",
   "execution_count": 0,
   "metadata": {
    "colab": {},
    "colab_type": "code",
    "id": "qv9la7bHP8Re"
   },
   "outputs": [],
   "source": [
    "# SPLIT DATA INTO TRAIN AND TEST\n",
    "\n",
    "from sklearn.model_selection import train_test_split\n",
    "\n",
    "train_DF, test_DF =train_test_split(ratings_df,test_size=0.30,random_state=1)"
   ]
  },
  {
   "cell_type": "code",
   "execution_count": 0,
   "metadata": {
    "colab": {},
    "colab_type": "code",
    "id": "DpUPhABGTVHv"
   },
   "outputs": [],
   "source": [
    "# FUNCTION TO GET THE MOST POPULAR PRODUCTS\n",
    "def mostPopular(df):\n",
    "  mean_count_df=pd.DataFrame(df.groupby('productID')['rating'].mean())\n",
    "  mean_count_df['counts']=df.groupby('productID')['rating'].count()\n",
    "  mean_count_df['score']=mean_count_df['rating']*mean_count_df['counts']\n",
    "  mean_count_df=mean_count_df.sort_values(['score'],ascending=False).head()\n",
    "  return mean_count_df"
   ]
  },
  {
   "cell_type": "code",
   "execution_count": 16,
   "metadata": {
    "colab": {
     "base_uri": "https://localhost:8080/",
     "height": 235
    },
    "colab_type": "code",
    "executionInfo": {
     "elapsed": 1543,
     "status": "ok",
     "timestamp": 1573909468741,
     "user": {
      "displayName": "Kowshik Preetham",
      "photoUrl": "https://lh3.googleusercontent.com/a-/AAuE7mBwQPQIo1pccEjhpmqT2qAAPIhT_5NjdDNhCn4F=s64",
      "userId": "00492992892680713631"
     },
     "user_tz": -330
    },
    "id": "th3-J-NGQBLw",
    "outputId": "09248218-58e4-444d-a942-557db0cab87c"
   },
   "outputs": [
    {
     "data": {
      "text/html": [
       "<div>\n",
       "<style scoped>\n",
       "    .dataframe tbody tr th:only-of-type {\n",
       "        vertical-align: middle;\n",
       "    }\n",
       "\n",
       "    .dataframe tbody tr th {\n",
       "        vertical-align: top;\n",
       "    }\n",
       "\n",
       "    .dataframe thead th {\n",
       "        text-align: right;\n",
       "    }\n",
       "</style>\n",
       "<table border=\"1\" class=\"dataframe\">\n",
       "  <thead>\n",
       "    <tr style=\"text-align: right;\">\n",
       "      <th></th>\n",
       "      <th>rating</th>\n",
       "      <th>counts</th>\n",
       "      <th>score</th>\n",
       "    </tr>\n",
       "    <tr>\n",
       "      <th>productID</th>\n",
       "      <th></th>\n",
       "      <th></th>\n",
       "      <th></th>\n",
       "    </tr>\n",
       "  </thead>\n",
       "  <tbody>\n",
       "    <tr>\n",
       "      <th>B003ES5ZUU</th>\n",
       "      <td>4.874074</td>\n",
       "      <td>135</td>\n",
       "      <td>658.0</td>\n",
       "    </tr>\n",
       "    <tr>\n",
       "      <th>B0088CJT4U</th>\n",
       "      <td>4.242857</td>\n",
       "      <td>140</td>\n",
       "      <td>594.0</td>\n",
       "    </tr>\n",
       "    <tr>\n",
       "      <th>B007WTAJTO</th>\n",
       "      <td>4.720721</td>\n",
       "      <td>111</td>\n",
       "      <td>524.0</td>\n",
       "    </tr>\n",
       "    <tr>\n",
       "      <th>B000N99BBC</th>\n",
       "      <td>4.761468</td>\n",
       "      <td>109</td>\n",
       "      <td>519.0</td>\n",
       "    </tr>\n",
       "    <tr>\n",
       "      <th>B00829TIEK</th>\n",
       "      <td>4.471698</td>\n",
       "      <td>106</td>\n",
       "      <td>474.0</td>\n",
       "    </tr>\n",
       "  </tbody>\n",
       "</table>\n",
       "</div>"
      ],
      "text/plain": [
       "              rating  counts  score\n",
       "productID                          \n",
       "B003ES5ZUU  4.874074     135  658.0\n",
       "B0088CJT4U  4.242857     140  594.0\n",
       "B007WTAJTO  4.720721     111  524.0\n",
       "B000N99BBC  4.761468     109  519.0\n",
       "B00829TIEK  4.471698     106  474.0"
      ]
     },
     "execution_count": 16,
     "metadata": {
      "tags": []
     },
     "output_type": "execute_result"
    }
   ],
   "source": [
    "# MOST POPULAR PRODUCTS IN THE TRAIN DATA\n",
    "mostPopular(train_DF).head()"
   ]
  },
  {
   "cell_type": "code",
   "execution_count": 17,
   "metadata": {
    "colab": {
     "base_uri": "https://localhost:8080/",
     "height": 235
    },
    "colab_type": "code",
    "executionInfo": {
     "elapsed": 1576,
     "status": "ok",
     "timestamp": 1573909515409,
     "user": {
      "displayName": "Kowshik Preetham",
      "photoUrl": "https://lh3.googleusercontent.com/a-/AAuE7mBwQPQIo1pccEjhpmqT2qAAPIhT_5NjdDNhCn4F=s64",
      "userId": "00492992892680713631"
     },
     "user_tz": -330
    },
    "id": "HjOgQmFTTUOV",
    "outputId": "16c38132-787a-48a9-8d99-ecdebd188170"
   },
   "outputs": [
    {
     "data": {
      "text/html": [
       "<div>\n",
       "<style scoped>\n",
       "    .dataframe tbody tr th:only-of-type {\n",
       "        vertical-align: middle;\n",
       "    }\n",
       "\n",
       "    .dataframe tbody tr th {\n",
       "        vertical-align: top;\n",
       "    }\n",
       "\n",
       "    .dataframe thead th {\n",
       "        text-align: right;\n",
       "    }\n",
       "</style>\n",
       "<table border=\"1\" class=\"dataframe\">\n",
       "  <thead>\n",
       "    <tr style=\"text-align: right;\">\n",
       "      <th></th>\n",
       "      <th>rating</th>\n",
       "      <th>counts</th>\n",
       "      <th>score</th>\n",
       "    </tr>\n",
       "    <tr>\n",
       "      <th>productID</th>\n",
       "      <th></th>\n",
       "      <th></th>\n",
       "      <th></th>\n",
       "    </tr>\n",
       "  </thead>\n",
       "  <tbody>\n",
       "    <tr>\n",
       "      <th>B0088CJT4U</th>\n",
       "      <td>4.158730</td>\n",
       "      <td>63</td>\n",
       "      <td>262.0</td>\n",
       "    </tr>\n",
       "    <tr>\n",
       "      <th>B000N99BBC</th>\n",
       "      <td>4.788462</td>\n",
       "      <td>52</td>\n",
       "      <td>249.0</td>\n",
       "    </tr>\n",
       "    <tr>\n",
       "      <th>B007WTAJTO</th>\n",
       "      <td>4.640000</td>\n",
       "      <td>50</td>\n",
       "      <td>232.0</td>\n",
       "    </tr>\n",
       "    <tr>\n",
       "      <th>B003ES5ZUU</th>\n",
       "      <td>4.826087</td>\n",
       "      <td>46</td>\n",
       "      <td>222.0</td>\n",
       "    </tr>\n",
       "    <tr>\n",
       "      <th>B008DWCRQW</th>\n",
       "      <td>4.061224</td>\n",
       "      <td>49</td>\n",
       "      <td>199.0</td>\n",
       "    </tr>\n",
       "  </tbody>\n",
       "</table>\n",
       "</div>"
      ],
      "text/plain": [
       "              rating  counts  score\n",
       "productID                          \n",
       "B0088CJT4U  4.158730      63  262.0\n",
       "B000N99BBC  4.788462      52  249.0\n",
       "B007WTAJTO  4.640000      50  232.0\n",
       "B003ES5ZUU  4.826087      46  222.0\n",
       "B008DWCRQW  4.061224      49  199.0"
      ]
     },
     "execution_count": 17,
     "metadata": {
      "tags": []
     },
     "output_type": "execute_result"
    }
   ],
   "source": [
    "# MOST POPULAR PRODUCTS IN THE TEST DATA\n",
    "\n",
    "mostPopular(test_DF).head()\n",
    "\n",
    "# Since 'B003ES5ZUU','B0088CJT4U' and 'B007WTAJTO' have topped in both train and test sets, those products should be the most popular in the given data"
   ]
  },
  {
   "cell_type": "code",
   "execution_count": 0,
   "metadata": {
    "colab": {
     "base_uri": "https://localhost:8080/",
     "height": 282
    },
    "colab_type": "code",
    "executionInfo": {
     "elapsed": 1650,
     "status": "ok",
     "timestamp": 1573659340227,
     "user": {
      "displayName": "Kowshik Preetham",
      "photoUrl": "https://lh3.googleusercontent.com/a-/AAuE7mBwQPQIo1pccEjhpmqT2qAAPIhT_5NjdDNhCn4F=s64",
      "userId": "00492992892680713631"
     },
     "user_tz": -330
    },
    "id": "ppxwmEB2QUsg",
    "outputId": "56d0498d-8d1f-48f1-a3d2-c109df00b3a2"
   },
   "outputs": [
    {
     "data": {
      "text/plain": [
       "<matplotlib.axes._subplots.AxesSubplot at 0x7fb8cafe3630>"
      ]
     },
     "execution_count": 10,
     "metadata": {
      "tags": []
     },
     "output_type": "execute_result"
    },
    {
     "data": {
      "image/png": "[encoded data removed]",
      "text/plain": [
       "<Figure size 432x288 with 1 Axes>"
      ]
     },
     "metadata": {
      "tags": []
     },
     "output_type": "display_data"
    }
   ],
   "source": [
    "mean_count_df['rating'].hist(bins=50)\n",
    "\n",
    "# Most of the products are given 5 as rating"
   ]
  },
  {
   "cell_type": "code",
   "execution_count": 0,
   "metadata": {
    "colab": {
     "base_uri": "https://localhost:8080/",
     "height": 458
    },
    "colab_type": "code",
    "executionInfo": {
     "elapsed": 2482,
     "status": "ok",
     "timestamp": 1573574865814,
     "user": {
      "displayName": "Kowshik Preetham",
      "photoUrl": "https://lh3.googleusercontent.com/a-/AAuE7mBwQPQIo1pccEjhpmqT2qAAPIhT_5NjdDNhCn4F=s64",
      "userId": "00492992892680713631"
     },
     "user_tz": -330
    },
    "id": "0U-gUBnGQXMZ",
    "outputId": "11cfc16f-d99f-4812-96db-ef4a35e57479"
   },
   "outputs": [
    {
     "data": {
      "text/plain": [
       "<seaborn.axisgrid.JointGrid at 0x7f1c913ece48>"
      ]
     },
     "execution_count": 11,
     "metadata": {
      "tags": []
     },
     "output_type": "execute_result"
    },
    {
     "data": {
      "image/png": "[encoded data removed]",
      "text/plain": [
       "<Figure size 432x432 with 3 Axes>"
      ]
     },
     "metadata": {
      "tags": []
     },
     "output_type": "display_data"
    }
   ],
   "source": [
    "import seaborn as sns\n",
    "sns.jointplot(x='rating', y='counts', data=mean_count_df)"
   ]
  },
  {
   "cell_type": "code",
   "execution_count": 18,
   "metadata": {
    "colab": {
     "base_uri": "https://localhost:8080/",
     "height": 275
    },
    "colab_type": "code",
    "executionInfo": {
     "elapsed": 31827,
     "status": "ok",
     "timestamp": 1573910126688,
     "user": {
      "displayName": "Kowshik Preetham",
      "photoUrl": "https://lh3.googleusercontent.com/a-/AAuE7mBwQPQIo1pccEjhpmqT2qAAPIhT_5NjdDNhCn4F=s64",
      "userId": "00492992892680713631"
     },
     "user_tz": -330
    },
    "id": "iBB8urokXzPL",
    "outputId": "1e9a6476-ebed-4415-db50-434f92da3d0e"
   },
   "outputs": [
    {
     "name": "stdout",
     "output_type": "stream",
     "text": [
      "Collecting scikit-surprise\n",
      "\u001b[?25l  Downloading https://files.pythonhosted.org/packages/f5/da/b5700d96495fb4f092be497f02492768a3d96a3f4fa2ae7dea46d4081cfa/scikit-surprise-1.1.0.tar.gz (6.4MB)\n",
      "\u001b[K     |████████████████████████████████| 6.5MB 2.5MB/s \n",
      "\u001b[?25hRequirement already satisfied: joblib>=0.11 in /usr/local/lib/python3.6/dist-packages (from scikit-surprise) (0.14.0)\n",
      "Requirement already satisfied: numpy>=1.11.2 in /usr/local/lib/python3.6/dist-packages (from scikit-surprise) (1.17.4)\n",
      "Requirement already satisfied: scipy>=1.0.0 in /usr/local/lib/python3.6/dist-packages (from scikit-surprise) (1.3.2)\n",
      "Requirement already satisfied: six>=1.10.0 in /usr/local/lib/python3.6/dist-packages (from scikit-surprise) (1.12.0)\n",
      "Building wheels for collected packages: scikit-surprise\n",
      "  Building wheel for scikit-surprise (setup.py) ... \u001b[?25l\u001b[?25hdone\n",
      "  Created wheel for scikit-surprise: filename=scikit_surprise-1.1.0-cp36-cp36m-linux_x86_64.whl size=1678232 sha256=8fdd3ae67e14d7a8ff7a155dc55f9ad546fc294ccc23381b18a23cf5d9ada6c9\n",
      "  Stored in directory: /root/.cache/pip/wheels/cc/fa/8c/16c93fccce688ae1bde7d979ff102f7bee980d9cfeb8641bcf\n",
      "Successfully built scikit-surprise\n",
      "Installing collected packages: scikit-surprise\n",
      "Successfully installed scikit-surprise-1.1.0\n"
     ]
    }
   ],
   "source": [
    "# INSTALLING SURPRISE PACKAGE\n",
    "\n",
    "!pip install scikit-surprise"
   ]
  },
  {
   "cell_type": "code",
   "execution_count": 20,
   "metadata": {
    "colab": {
     "base_uri": "https://localhost:8080/",
     "height": 34
    },
    "colab_type": "code",
    "executionInfo": {
     "elapsed": 4487,
     "status": "ok",
     "timestamp": 1573910551465,
     "user": {
      "displayName": "Kowshik Preetham",
      "photoUrl": "https://lh3.googleusercontent.com/a-/AAuE7mBwQPQIo1pccEjhpmqT2qAAPIhT_5NjdDNhCn4F=s64",
      "userId": "00492992892680713631"
     },
     "user_tz": -330
    },
    "id": "cgZhY4A-PRi3",
    "outputId": "1a73f793-4afb-47d7-f3e6-b8d89c48f251"
   },
   "outputs": [
    {
     "data": {
      "text/plain": [
       "<surprise.prediction_algorithms.matrix_factorization.SVD at 0x7f3d886f44e0>"
      ]
     },
     "execution_count": 20,
     "metadata": {
      "tags": []
     },
     "output_type": "execute_result"
    }
   ],
   "source": [
    "# TRAINING THE SVD MODEL\n",
    "\n",
    "from surprise import SVD\n",
    "from surprise import Dataset\n",
    "from surprise import Reader\n",
    "reader = Reader(rating_scale=(1, 5))\n",
    "\n",
    "# considering the top 50000 records to accustom the system capability\n",
    "svd_df=Dataset.load_from_df(train_DF.head(50000),reader=reader)\n",
    "svd_model=SVD()\n",
    "trainSVD_df=svd_df.build_full_trainset()\n",
    "svd_model.fit(trainSVD_df)"
   ]
  },
  {
   "cell_type": "code",
   "execution_count": 21,
   "metadata": {
    "colab": {
     "base_uri": "https://localhost:8080/",
     "height": 34
    },
    "colab_type": "code",
    "executionInfo": {
     "elapsed": 295987,
     "status": "ok",
     "timestamp": 1573910881335,
     "user": {
      "displayName": "Kowshik Preetham",
      "photoUrl": "https://lh3.googleusercontent.com/a-/AAuE7mBwQPQIo1pccEjhpmqT2qAAPIhT_5NjdDNhCn4F=s64",
      "userId": "00492992892680713631"
     },
     "user_tz": -330
    },
    "id": "mxehZD84URMg",
    "outputId": "0a0b7c22-98bb-4871-9c14-5fe0bcab9d9e"
   },
   "outputs": [
    {
     "data": {
      "text/plain": [
       "Prediction(uid='A1HBI9BBQIG1NH', iid='B000ELE4Q6', r_ui=4.25712, est=3.912665898920191, details={'was_impossible': False})"
      ]
     },
     "execution_count": 21,
     "metadata": {
      "tags": []
     },
     "output_type": "execute_result"
    }
   ],
   "source": [
    "# GET THE TEST DATA FROM THE TRAIN DATA AND GET THE PREDCTIONS\n",
    "\n",
    "testSVD_df=trainSVD_df.build_anti_testset()\n",
    "predictions=svd_model.test(testSVD_df)\n",
    "predictions[38]"
   ]
  },
  {
   "cell_type": "code",
   "execution_count": 0,
   "metadata": {
    "colab": {},
    "colab_type": "code",
    "id": "NqzGNPetgEmm"
   },
   "outputs": [],
   "source": [
    "# DEFINE A METHOD THAT WILL GET THE TOP K RECOMMENDATIONS FOR EASH USER\n",
    "\n",
    "from collections import defaultdict\n",
    "def top_k(predictions,k):\n",
    "      top_k=defaultdict(list) \n",
    "      # creating a dictionary with userID as key and (productid,estimated rating) as values\n",
    "      for uid,iid,_,est,_ in predictions:\n",
    "        top_k[uid].append((iid,est))\n",
    "\n",
    "      # Sorting the ratings for each user in the dictionary\n",
    "      for userID,rating_est in top_k.items():\n",
    "        rating_est.sort(key=(lambda x : x[1]),reverse=True)\n",
    "        top_k[userID]=rating_est[:k]\n",
    "      \n",
    "      return top_k"
   ]
  },
  {
   "cell_type": "code",
   "execution_count": 11,
   "metadata": {
    "colab": {
     "base_uri": "https://localhost:8080/",
     "height": 102
    },
    "colab_type": "code",
    "executionInfo": {
     "elapsed": 34161,
     "status": "ok",
     "timestamp": 1573881306022,
     "user": {
      "displayName": "Kowshik Preetham",
      "photoUrl": "https://lh3.googleusercontent.com/a-/AAuE7mBwQPQIo1pccEjhpmqT2qAAPIhT_5NjdDNhCn4F=s64",
      "userId": "00492992892680713631"
     },
     "user_tz": -330
    },
    "id": "UtAZIfXPhX4o",
    "outputId": "f621f6de-56af-431c-ae39-bdd61ee66c84"
   },
   "outputs": [
    {
     "data": {
      "text/plain": [
       "[('B002V8C3W2', 4.616267764558126),\n",
       " ('B003NR57BY', 4.609462315041144),\n",
       " ('B002V88HFE', 4.60217523652157),\n",
       " ('B0015AARJI', 4.588574874693931),\n",
       " ('B00429N18S', 4.563822191187141)]"
      ]
     },
     "execution_count": 11,
     "metadata": {
      "tags": []
     },
     "output_type": "execute_result"
    }
   ],
   "source": [
    "# TOP 5 RECOMMENDATIONS FOR THE USER 'A1HBI9BBQIG1NH'\n",
    "recommends=top_k(predictions,5)\n",
    "recommends['A1HBI9BBQIG1NH']"
   ]
  },
  {
   "cell_type": "code",
   "execution_count": 24,
   "metadata": {
    "colab": {
     "base_uri": "https://localhost:8080/",
     "height": 51
    },
    "colab_type": "code",
    "executionInfo": {
     "elapsed": 30023,
     "status": "ok",
     "timestamp": 1573911250654,
     "user": {
      "displayName": "Kowshik Preetham",
      "photoUrl": "https://lh3.googleusercontent.com/a-/AAuE7mBwQPQIo1pccEjhpmqT2qAAPIhT_5NjdDNhCn4F=s64",
      "userId": "00492992892680713631"
     },
     "user_tz": -330
    },
    "id": "wKCUuWlsrWGp",
    "outputId": "84f4b412-62b0-480c-a7e8-2a0be9c766fb"
   },
   "outputs": [
    {
     "name": "stdout",
     "output_type": "stream",
     "text": [
      "RMSE: 0.3918\n"
     ]
    },
    {
     "data": {
      "text/plain": [
       "0.3918243398227639"
      ]
     },
     "execution_count": 24,
     "metadata": {
      "tags": []
     },
     "output_type": "execute_result"
    }
   ],
   "source": [
    "# RMSE OF THE PREDICTIONS\n",
    "\n",
    "from surprise import accuracy\n",
    "\n",
    "accuracy.rmse(predictions)\n",
    "\n",
    "# 0.39 RMSE is a good model (lesser rmse value better is the model)"
   ]
  },
  {
   "cell_type": "code",
   "execution_count": 0,
   "metadata": {
    "colab": {},
    "colab_type": "code",
    "id": "XEQkaqoOEyQX"
   },
   "outputs": [],
   "source": [
    "# OBSERVATIONS :\n",
    "# 1) It can be observed from the data that more than half of the product ratings are more than 4.\n",
    "#    From which we can infer that user mostly rate the product when they are very satified with the product.\n",
    "# 2) Products - 'B003ES5ZUU','B0088CJT4U' and 'B007WTAJTO' should be the most popular products in the given data as per user ratings.\n",
    "# 3) The top recommended products for each user are having an estimated rating of around 4.5 which implies that no product is strongly\n",
    "#    recommended. This might be due to lesser number of ratings given by each user on different products.\n",
    "# 4) A RMSE of 0.39 implies that the model has performed well as a lesser RMSE corresponds to lesser error."
   ]
  },
  {
   "cell_type": "code",
   "execution_count": 0,
   "metadata": {
    "colab": {},
    "colab_type": "code",
    "id": "Uc_A0DxiFIXO"
   },
   "outputs": [],
   "source": []
  }
 ],
 "metadata": {
  "accelerator": "GPU",
  "colab": {
   "collapsed_sections": [],
   "machine_shape": "hm",
   "name": "recommend_project.ipynb",
   "provenance": []
  },
  "kernelspec": {
   "display_name": "Python 3",
   "language": "python",
   "name": "python3"
  },
  "language_info": {
   "codemirror_mode": {
    "name": "ipython",
    "version": 3
   },
   "file_extension": ".py",
   "mimetype": "text/x-python",
   "name": "python",
   "nbconvert_exporter": "python",
   "pygments_lexer": "ipython3",
   "version": "3.7.3"
  }
 },
 "nbformat": 4,
 "nbformat_minor": 1
}
